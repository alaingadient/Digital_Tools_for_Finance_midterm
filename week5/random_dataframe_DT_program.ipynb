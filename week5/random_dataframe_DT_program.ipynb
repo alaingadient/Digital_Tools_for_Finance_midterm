{
 "cells": [
  {
   "cell_type": "code",
   "execution_count": 17,
   "id": "63fc1657",
   "metadata": {},
   "outputs": [
    {
     "data": {
      "text/html": [
       "<div>\n",
       "<style scoped>\n",
       "    .dataframe tbody tr th:only-of-type {\n",
       "        vertical-align: middle;\n",
       "    }\n",
       "\n",
       "    .dataframe tbody tr th {\n",
       "        vertical-align: top;\n",
       "    }\n",
       "\n",
       "    .dataframe thead th {\n",
       "        text-align: right;\n",
       "    }\n",
       "</style>\n",
       "<table border=\"1\" class=\"dataframe\">\n",
       "  <thead>\n",
       "    <tr style=\"text-align: right;\">\n",
       "      <th></th>\n",
       "      <th>a</th>\n",
       "      <th>b</th>\n",
       "      <th>c</th>\n",
       "      <th>d</th>\n",
       "      <th>dcopy</th>\n",
       "    </tr>\n",
       "  </thead>\n",
       "  <tbody>\n",
       "    <tr>\n",
       "      <th>0</th>\n",
       "      <td>0.833105</td>\n",
       "      <td>0.160427</td>\n",
       "      <td>0.938389</td>\n",
       "      <td>0.553264</td>\n",
       "      <td>0.553264</td>\n",
       "    </tr>\n",
       "    <tr>\n",
       "      <th>1</th>\n",
       "      <td>0.317647</td>\n",
       "      <td>0.193171</td>\n",
       "      <td>0.377854</td>\n",
       "      <td>0.167404</td>\n",
       "      <td>0.167404</td>\n",
       "    </tr>\n",
       "    <tr>\n",
       "      <th>2</th>\n",
       "      <td>0.141341</td>\n",
       "      <td>0.750913</td>\n",
       "      <td>0.289142</td>\n",
       "      <td>0.535491</td>\n",
       "      <td>0.535491</td>\n",
       "    </tr>\n",
       "    <tr>\n",
       "      <th>3</th>\n",
       "      <td>0.799698</td>\n",
       "      <td>0.048478</td>\n",
       "      <td>0.153318</td>\n",
       "      <td>0.358700</td>\n",
       "      <td>0.358700</td>\n",
       "    </tr>\n",
       "    <tr>\n",
       "      <th>4</th>\n",
       "      <td>0.016080</td>\n",
       "      <td>0.024034</td>\n",
       "      <td>0.161726</td>\n",
       "      <td>0.396849</td>\n",
       "      <td>0.396849</td>\n",
       "    </tr>\n",
       "  </tbody>\n",
       "</table>\n",
       "</div>"
      ],
      "text/plain": [
       "          a         b         c         d     dcopy\n",
       "0  0.833105  0.160427  0.938389  0.553264  0.553264\n",
       "1  0.317647  0.193171  0.377854  0.167404  0.167404\n",
       "2  0.141341  0.750913  0.289142  0.535491  0.535491\n",
       "3  0.799698  0.048478  0.153318  0.358700  0.358700\n",
       "4  0.016080  0.024034  0.161726  0.396849  0.396849"
      ]
     },
     "execution_count": 17,
     "metadata": {},
     "output_type": "execute_result"
    }
   ],
   "source": [
    "import pandas as pd\n",
    "import numpy as np\n",
    "import time\n",
    "\n",
    "df= pd.DataFrame(np.random.rand(1000000,4),columns=[\"a\", \"b\",\"c\",\"d\"])\n",
    "df['dcopy']=df['d']\n",
    "# df.columns =['a', 'b', 'c', 'd','d_copy']\n",
    "df.head()"
   ]
  },
  {
   "cell_type": "code",
   "execution_count": 18,
   "id": "10b64a5f",
   "metadata": {},
   "outputs": [
    {
     "name": "stdout",
     "output_type": "stream",
     "text": [
      "Execution Time: 8.397636413574219 seconds\n"
     ]
    }
   ],
   "source": [
    "import time\n",
    "st=time.time()\n",
    "df.to_csv('random_dataframe_DT.csv')\n",
    "et=time.time()\n",
    "Exec_time=et-st\n",
    "print('Execution Time:',Exec_time,'seconds')\n"
   ]
  },
  {
   "cell_type": "code",
   "execution_count": 19,
   "id": "687219d7",
   "metadata": {},
   "outputs": [
    {
     "name": "stdout",
     "output_type": "stream",
     "text": [
      "Execution Time: 0.15949654579162598 seconds\n"
     ]
    }
   ],
   "source": [
    "import time\n",
    "st=time.time()\n",
    "df.to_hdf('random_dataframe_DT_hdf.txt',key='df', mode='w')\n",
    "et=time.time()\n",
    "Exec_time=et-st\n",
    "print('Execution Time:',Exec_time,'seconds')"
   ]
  },
  {
   "cell_type": "code",
   "execution_count": 20,
   "id": "c34b022c",
   "metadata": {},
   "outputs": [
    {
     "name": "stdout",
     "output_type": "stream",
     "text": [
      "Execution Time: 0.22101521492004395 seconds\n"
     ]
    }
   ],
   "source": [
    "import time\n",
    "from fastparquet import write\n",
    "st=time.time()\n",
    "write('random_dataframe_DT_parq.txt', df)\n",
    "et=time.time()\n",
    "Exec_time=et-st\n",
    "print('Execution Time:',Exec_time,'seconds')"
   ]
  },
  {
   "cell_type": "code",
   "execution_count": 21,
   "id": "68b86672",
   "metadata": {},
   "outputs": [
    {
     "name": "stdout",
     "output_type": "stream",
     "text": [
      "Execution Time: 0.047287940979003906 seconds\n"
     ]
    }
   ],
   "source": [
    "import time\n",
    "import pyarrow \n",
    "st=time.time()\n",
    "df.to_feather('random_dataframe_DT_feather.txt')\n",
    "et=time.time()\n",
    "Exec_time=et-st\n",
    "print('Execution Time:',Exec_time,'seconds')"
   ]
  },
  {
   "cell_type": "code",
   "execution_count": null,
   "id": "71d0a88f",
   "metadata": {},
   "outputs": [],
   "source": []
  },
  {
   "cell_type": "code",
   "execution_count": null,
   "id": "330154ff",
   "metadata": {},
   "outputs": [],
   "source": []
  }
 ],
 "metadata": {
  "kernelspec": {
   "display_name": "Python 3",
   "language": "python",
   "name": "python3"
  },
  "language_info": {
   "codemirror_mode": {
    "name": "ipython",
    "version": 3
   },
   "file_extension": ".py",
   "mimetype": "text/x-python",
   "name": "python",
   "nbconvert_exporter": "python",
   "pygments_lexer": "ipython3",
   "version": "3.8.8"
  }
 },
 "nbformat": 4,
 "nbformat_minor": 5
}
