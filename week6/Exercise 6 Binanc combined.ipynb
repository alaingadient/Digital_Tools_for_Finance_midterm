{
 "cells": [
  {
   "cell_type": "code",
   "execution_count": 6,
   "metadata": {},
   "outputs": [],
   "source": [
    "#Q1.bitcoin.com\n",
    "#Q2.=Base endpoints + link + condition \n",
    "  #like:https://api.binance.com/api/v1/klines?symbol=BTCUSDT&interval=1h\n"
   ]
  },
  {
   "cell_type": "code",
   "execution_count": 26,
   "metadata": {},
   "outputs": [],
   "source": [
    "import requests\n",
    "import datetime\n",
    "import json\n",
    "import pandas as pd\n",
    "import time"
   ]
  },
  {
   "cell_type": "code",
   "execution_count": 27,
   "metadata": {},
   "outputs": [
    {
     "name": "stdout",
     "output_type": "stream",
     "text": [
      "1623708000000\n"
     ]
    }
   ],
   "source": [
    "ROOT_URL = \"https://api.binance.com\"\n",
    "date = '2021-06-15'\n",
    "unix_time = 1000 * int(time.mktime(datetime.datetime.strptime(date, '%Y-%m-%d').timetuple()))\n",
    "print(unix_time)"
   ]
  },
  {
   "cell_type": "code",
   "execution_count": 28,
   "metadata": {},
   "outputs": [
    {
     "name": "stdout",
     "output_type": "stream",
     "text": [
      "https://api.binance.com/api/v3/klines?symbol=BTCUSDT&interval=5m&startTime=1623708000000&limit=75\n"
     ]
    }
   ],
   "source": [
    "# question 3 \n",
    "   #choose request url\n",
    "end_point = \"api/v3/klines\"\n",
    "symbol = \"BTCUSDT\"\n",
    "interval = \"5m\"\n",
    "limit = \"75\"\n",
    "req  = f\"{ROOT_URL}/{end_point}?symbol={symbol}&interval={interval}&startTime={unix_time}&limit={limit}\"\n",
    "\n",
    "print(req)\n"
   ]
  },
  {
   "cell_type": "code",
   "execution_count": 29,
   "metadata": {},
   "outputs": [],
   "source": [
    "#send request to the binance and receive a response\n",
    "resp = requests.get(req)"
   ]
  },
  {
   "cell_type": "code",
   "execution_count": 30,
   "metadata": {},
   "outputs": [
    {
     "name": "stdout",
     "output_type": "stream",
     "text": [
      "                               open            high             low  \\\n",
      "open time                                                             \n",
      "2021-06-15 00:00:00  40270.00000000  40362.92000000  40184.02000000   \n",
      "2021-06-15 00:05:00  40320.72000000  40400.00000000  40250.33000000   \n",
      "2021-06-15 00:10:00  40268.09000000  40296.11000000  40175.89000000   \n",
      "2021-06-15 00:15:00  40231.08000000  40283.95000000  40079.42000000   \n",
      "2021-06-15 00:20:00  40098.03000000  40211.57000000  40031.36000000   \n",
      "...                             ...             ...             ...   \n",
      "2021-06-15 05:50:00  40472.47000000  40600.00000000  40472.47000000   \n",
      "2021-06-15 05:55:00  40477.59000000  40499.99000000  40323.91000000   \n",
      "2021-06-15 06:00:00  40403.13000000  40472.09000000  40285.71000000   \n",
      "2021-06-15 06:05:00  40459.67000000  40500.00000000  40308.58000000   \n",
      "2021-06-15 06:10:00  40338.05000000  40398.31000000  40300.00000000   \n",
      "\n",
      "                              close  \n",
      "open time                            \n",
      "2021-06-15 00:00:00  40320.72000000  \n",
      "2021-06-15 00:05:00  40268.09000000  \n",
      "2021-06-15 00:10:00  40231.08000000  \n",
      "2021-06-15 00:15:00  40098.04000000  \n",
      "2021-06-15 00:20:00  40183.65000000  \n",
      "...                             ...  \n",
      "2021-06-15 05:50:00  40477.59000000  \n",
      "2021-06-15 05:55:00  40404.86000000  \n",
      "2021-06-15 06:00:00  40459.68000000  \n",
      "2021-06-15 06:05:00  40338.05000000  \n",
      "2021-06-15 06:10:00  40378.00000000  \n",
      "\n",
      "[75 rows x 4 columns]\n"
     ]
    }
   ],
   "source": [
    "# convert to DataFrame\n",
    "data = pd.DataFrame.from_records(\n",
    "    resp.json(),\n",
    "    columns=[\"open time\",\"open\", \"high\", \"low\", \"close\",\"volumne\",\"Close time\",\"Quote asset volumne\",\"#trades\",\"t buy base volumn\",\"t buy quote a volumn\",\"ignore\"]\n",
    ")\n",
    "#data.index = data.pop(\"opentime\").map(datetime.datetime.fromtimestamp)\n",
    "data = data[[\"open time\",\"open\", \"high\", \"low\", \"close\"]]\n",
    "data['open time']=data['open time']/1000\n",
    "data.index = data.pop(\"open time\").map(datetime.datetime.fromtimestamp)\n",
    "print(data)"
   ]
  },
  {
   "cell_type": "code",
   "execution_count": null,
   "metadata": {},
   "outputs": [],
   "source": []
  },
  {
   "cell_type": "code",
   "execution_count": null,
   "metadata": {},
   "outputs": [],
   "source": []
  },
  {
   "cell_type": "code",
   "execution_count": null,
   "metadata": {},
   "outputs": [],
   "source": []
  },
  {
   "cell_type": "code",
   "execution_count": 34,
   "metadata": {},
   "outputs": [],
   "source": [
    "# Q4 Write a function retrieves 75 observations of klines data for a generic currency pair since a generic date.(currency pair and start date as input parameters)\n",
    "\n",
    "def get_binanc_klines(currency,since):\n",
    "    import requests\n",
    "    import datetime\n",
    "    import json\n",
    "    import pandas as pd\n",
    "    import time\n",
    "\n",
    "    ROOT_URL = \"https://api.binance.com\"\n",
    "    date = since\n",
    "    unix_time = 1000 * int(time.mktime(datetime.datetime.strptime(date, '%Y-%m-%d').timetuple()))\n",
    "\n",
    "   #choose request url\n",
    "    end_point = \"api/v3/klines\"\n",
    "    symbol = currency\n",
    "    interval = \"5m\"\n",
    "    limit = \"75\"\n",
    "    req  = f\"{ROOT_URL}/{end_point}?symbol={symbol}&interval={interval}&startTime={unix_time}&limit={limit}\"\n",
    "\n",
    "\n",
    "#send request to the binance and receive a response\n",
    "    resp = requests.get(req)\n",
    "\n",
    "# convert to DataFrame\n",
    "    data = pd.DataFrame.from_records(\n",
    "        resp.json(),\n",
    "        columns=[\"open time\",\"open\", \"high\", \"low\", \"close\",\"volumne\",\"Close time\",\"Quote asset volumne\",\"#trades\",\"t buy base volumn\",\"t buy quote a volumn\",\"ignore\"]\n",
    "    )\n",
    "#data.index = data.pop(\"opentime\").map(datetime.datetime.fromtimestamp)\n",
    "    data = data[[\"open time\",\"open\", \"high\", \"low\", \"close\"]]\n",
    "    data['open time']=data['open time']/1000\n",
    "    data.index = data.pop(\"open time\").map(datetime.datetime.fromtimestamp)\n",
    "    return data"
   ]
  },
  {
   "cell_type": "code",
   "execution_count": 35,
   "metadata": {},
   "outputs": [
    {
     "data": {
      "text/html": [
       "<div>\n",
       "<style scoped>\n",
       "    .dataframe tbody tr th:only-of-type {\n",
       "        vertical-align: middle;\n",
       "    }\n",
       "\n",
       "    .dataframe tbody tr th {\n",
       "        vertical-align: top;\n",
       "    }\n",
       "\n",
       "    .dataframe thead th {\n",
       "        text-align: right;\n",
       "    }\n",
       "</style>\n",
       "<table border=\"1\" class=\"dataframe\">\n",
       "  <thead>\n",
       "    <tr style=\"text-align: right;\">\n",
       "      <th></th>\n",
       "      <th>open</th>\n",
       "      <th>high</th>\n",
       "      <th>low</th>\n",
       "      <th>close</th>\n",
       "    </tr>\n",
       "    <tr>\n",
       "      <th>open time</th>\n",
       "      <th></th>\n",
       "      <th></th>\n",
       "      <th></th>\n",
       "      <th></th>\n",
       "    </tr>\n",
       "  </thead>\n",
       "  <tbody>\n",
       "    <tr>\n",
       "      <th>2021-06-15 00:00:00</th>\n",
       "      <td>40270.00000000</td>\n",
       "      <td>40362.92000000</td>\n",
       "      <td>40184.02000000</td>\n",
       "      <td>40320.72000000</td>\n",
       "    </tr>\n",
       "    <tr>\n",
       "      <th>2021-06-15 00:05:00</th>\n",
       "      <td>40320.72000000</td>\n",
       "      <td>40400.00000000</td>\n",
       "      <td>40250.33000000</td>\n",
       "      <td>40268.09000000</td>\n",
       "    </tr>\n",
       "    <tr>\n",
       "      <th>2021-06-15 00:10:00</th>\n",
       "      <td>40268.09000000</td>\n",
       "      <td>40296.11000000</td>\n",
       "      <td>40175.89000000</td>\n",
       "      <td>40231.08000000</td>\n",
       "    </tr>\n",
       "    <tr>\n",
       "      <th>2021-06-15 00:15:00</th>\n",
       "      <td>40231.08000000</td>\n",
       "      <td>40283.95000000</td>\n",
       "      <td>40079.42000000</td>\n",
       "      <td>40098.04000000</td>\n",
       "    </tr>\n",
       "    <tr>\n",
       "      <th>2021-06-15 00:20:00</th>\n",
       "      <td>40098.03000000</td>\n",
       "      <td>40211.57000000</td>\n",
       "      <td>40031.36000000</td>\n",
       "      <td>40183.65000000</td>\n",
       "    </tr>\n",
       "    <tr>\n",
       "      <th>...</th>\n",
       "      <td>...</td>\n",
       "      <td>...</td>\n",
       "      <td>...</td>\n",
       "      <td>...</td>\n",
       "    </tr>\n",
       "    <tr>\n",
       "      <th>2021-06-15 05:50:00</th>\n",
       "      <td>40472.47000000</td>\n",
       "      <td>40600.00000000</td>\n",
       "      <td>40472.47000000</td>\n",
       "      <td>40477.59000000</td>\n",
       "    </tr>\n",
       "    <tr>\n",
       "      <th>2021-06-15 05:55:00</th>\n",
       "      <td>40477.59000000</td>\n",
       "      <td>40499.99000000</td>\n",
       "      <td>40323.91000000</td>\n",
       "      <td>40404.86000000</td>\n",
       "    </tr>\n",
       "    <tr>\n",
       "      <th>2021-06-15 06:00:00</th>\n",
       "      <td>40403.13000000</td>\n",
       "      <td>40472.09000000</td>\n",
       "      <td>40285.71000000</td>\n",
       "      <td>40459.68000000</td>\n",
       "    </tr>\n",
       "    <tr>\n",
       "      <th>2021-06-15 06:05:00</th>\n",
       "      <td>40459.67000000</td>\n",
       "      <td>40500.00000000</td>\n",
       "      <td>40308.58000000</td>\n",
       "      <td>40338.05000000</td>\n",
       "    </tr>\n",
       "    <tr>\n",
       "      <th>2021-06-15 06:10:00</th>\n",
       "      <td>40338.05000000</td>\n",
       "      <td>40398.31000000</td>\n",
       "      <td>40300.00000000</td>\n",
       "      <td>40378.00000000</td>\n",
       "    </tr>\n",
       "  </tbody>\n",
       "</table>\n",
       "<p>75 rows × 4 columns</p>\n",
       "</div>"
      ],
      "text/plain": [
       "                               open            high             low  \\\n",
       "open time                                                             \n",
       "2021-06-15 00:00:00  40270.00000000  40362.92000000  40184.02000000   \n",
       "2021-06-15 00:05:00  40320.72000000  40400.00000000  40250.33000000   \n",
       "2021-06-15 00:10:00  40268.09000000  40296.11000000  40175.89000000   \n",
       "2021-06-15 00:15:00  40231.08000000  40283.95000000  40079.42000000   \n",
       "2021-06-15 00:20:00  40098.03000000  40211.57000000  40031.36000000   \n",
       "...                             ...             ...             ...   \n",
       "2021-06-15 05:50:00  40472.47000000  40600.00000000  40472.47000000   \n",
       "2021-06-15 05:55:00  40477.59000000  40499.99000000  40323.91000000   \n",
       "2021-06-15 06:00:00  40403.13000000  40472.09000000  40285.71000000   \n",
       "2021-06-15 06:05:00  40459.67000000  40500.00000000  40308.58000000   \n",
       "2021-06-15 06:10:00  40338.05000000  40398.31000000  40300.00000000   \n",
       "\n",
       "                              close  \n",
       "open time                            \n",
       "2021-06-15 00:00:00  40320.72000000  \n",
       "2021-06-15 00:05:00  40268.09000000  \n",
       "2021-06-15 00:10:00  40231.08000000  \n",
       "2021-06-15 00:15:00  40098.04000000  \n",
       "2021-06-15 00:20:00  40183.65000000  \n",
       "...                             ...  \n",
       "2021-06-15 05:50:00  40477.59000000  \n",
       "2021-06-15 05:55:00  40404.86000000  \n",
       "2021-06-15 06:00:00  40459.68000000  \n",
       "2021-06-15 06:05:00  40338.05000000  \n",
       "2021-06-15 06:10:00  40378.00000000  \n",
       "\n",
       "[75 rows x 4 columns]"
      ]
     },
     "execution_count": 35,
     "metadata": {},
     "output_type": "execute_result"
    }
   ],
   "source": [
    "get_binanc_klines(\"BTCUSDT\",'2021-06-15')"
   ]
  },
  {
   "cell_type": "code",
   "execution_count": null,
   "metadata": {},
   "outputs": [],
   "source": []
  }
 ],
 "metadata": {
  "kernelspec": {
   "display_name": "Python 3",
   "language": "python",
   "name": "python3"
  },
  "language_info": {
   "codemirror_mode": {
    "name": "ipython",
    "version": 3
   },
   "file_extension": ".py",
   "mimetype": "text/x-python",
   "name": "python",
   "nbconvert_exporter": "python",
   "pygments_lexer": "ipython3",
   "version": "3.8.8"
  }
 },
 "nbformat": 4,
 "nbformat_minor": 4
}
