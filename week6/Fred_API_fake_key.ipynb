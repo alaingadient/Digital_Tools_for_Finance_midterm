{
 "cells": [
  {
   "cell_type": "code",
   "execution_count": 52,
   "id": "ce3bfe82",
   "metadata": {},
   "outputs": [],
   "source": [
    "import requests\n",
    "import datetime\n",
    "import json\n",
    "import pandas as pd"
   ]
  },
  {
   "cell_type": "code",
   "execution_count": 53,
   "id": "940f2abb",
   "metadata": {},
   "outputs": [],
   "source": [
    "#Q1 obtain an API key \n",
    "# API_key=92fbb06ca6f07c6f69eb357bf13f4f49\n",
    "\n",
    "#Q2 what is the root URL\n",
    "#https://api.stlouisfed.org\n",
    "\n",
    "#Q3 what is the endpoint to retrieve time series observations \n",
    "#fred/series/observations"
   ]
  },
  {
   "cell_type": "code",
   "execution_count": 55,
   "id": "d8c822fe",
   "metadata": {},
   "outputs": [
    {
     "name": "stdout",
     "output_type": "stream",
     "text": [
      "https://api.stlouisfed.org/fred/series/observations?series_id=UNRATE&api_key=abc123&file_type=json&observation_start=2020-01-01\n"
     ]
    }
   ],
   "source": [
    " #Q4 construct a query string to retrieve the series of the monthly unemployment rate (seasonally adjusted) since 2020-01. \n",
    " #   Use the fake API key abc123 in the query string.\n",
    "reqt = \"{root_url}/{endpoint}?series_id={series_id}&api_key={api_key}&file_type={file_type}&observation_start={observation_start}\" \\\n",
    "    .format(root_url=\"https://api.stlouisfed.org\",\n",
    "            endpoint=\"fred/series/observations\",\n",
    "            api_key=\"abc123\",\n",
    "            series_id=\"UNRATE\",\n",
    "            file_type=\"json\",\n",
    "            observation_start=\"2020-01-01\"\n",
    "                 \n",
    "            )\n",
    "print(reqt)\n",
    "    \n"
   ]
  },
  {
   "cell_type": "code",
   "execution_count": null,
   "id": "dfe64bfb",
   "metadata": {},
   "outputs": [],
   "source": []
  },
  {
   "cell_type": "code",
   "execution_count": null,
   "id": "30c42569",
   "metadata": {},
   "outputs": [],
   "source": []
  },
  {
   "cell_type": "code",
   "execution_count": null,
   "id": "d10ce3d6",
   "metadata": {},
   "outputs": [],
   "source": []
  },
  {
   "cell_type": "code",
   "execution_count": null,
   "id": "4180a3be",
   "metadata": {},
   "outputs": [],
   "source": []
  }
 ],
 "metadata": {
  "kernelspec": {
   "display_name": "Python 3",
   "language": "python",
   "name": "python3"
  },
  "language_info": {
   "codemirror_mode": {
    "name": "ipython",
    "version": 3
   },
   "file_extension": ".py",
   "mimetype": "text/x-python",
   "name": "python",
   "nbconvert_exporter": "python",
   "pygments_lexer": "ipython3",
   "version": "3.8.8"
  }
 },
 "nbformat": 4,
 "nbformat_minor": 5
}
