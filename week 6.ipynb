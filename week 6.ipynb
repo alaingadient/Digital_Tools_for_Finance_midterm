{
 "cells": [
  {
   "cell_type": "code",
   "execution_count": 27,
   "id": "57b94071",
   "metadata": {},
   "outputs": [],
   "source": [
    "import requests\n",
    "import datetime\n",
    "import json\n",
    "import pandas as pd"
   ]
  },
  {
   "cell_type": "code",
   "execution_count": 2,
   "id": "bcd97d18",
   "metadata": {},
   "outputs": [],
   "source": [
    "ROOT_URL = \"https://api.kraken.com/0/public\""
   ]
  },
  {
   "cell_type": "code",
   "execution_count": 3,
   "id": "b5026cca",
   "metadata": {},
   "outputs": [
    {
     "name": "stdout",
     "output_type": "stream",
     "text": [
      "https://api.kraken.com/0/public/Trades?pair=BCHUSD&since=1579961700\n"
     ]
    }
   ],
   "source": [
    "# construct request URL\n",
    "req = \"{root_url}/{endpoint}?pair={pair}USD&since={since}\" \\\n",
    "     .format(root_url=\"https://api.kraken.com/0/public\",\n",
    "             endpoint=\"Trades\",\n",
    "             pair=\"BCH\",\n",
    "             since=1579961700)\n",
    "print(req)"
   ]
  },
  {
   "cell_type": "code",
   "execution_count": 4,
   "id": "e7a9f385",
   "metadata": {},
   "outputs": [
    {
     "name": "stdout",
     "output_type": "stream",
     "text": [
      "<Response [200]>\n"
     ]
    }
   ],
   "source": [
    "# send request to the Kraken server & receive a response\n",
    "resp = requests.get(req)\n",
    "print(resp)"
   ]
  },
  {
   "cell_type": "code",
   "execution_count": 17,
   "id": "304e0d95",
   "metadata": {},
   "outputs": [
    {
     "name": "stdout",
     "output_type": "stream",
     "text": [
      "                                 price       volume buy_sell market_limit  \\\n",
      "time                                                                        \n",
      "2020-01-25 15:24:38.505274  310.200000   1.86414155        s            m   \n",
      "2020-01-25 15:24:38.520772  310.200000   0.00483420        s            m   \n",
      "2020-01-25 15:24:38.522239  310.200000   0.00001254        s            m   \n",
      "2020-01-25 15:24:38.523593  310.200000   0.00000003        s            m   \n",
      "2020-01-25 15:28:35.997562  310.100000   4.00000000        b            l   \n",
      "...                                ...          ...      ...          ...   \n",
      "2020-01-26 03:31:53.785286  309.500000   8.31209454        b            l   \n",
      "2020-01-26 03:31:54.192355  309.500000  15.90495422        b            l   \n",
      "2020-01-26 03:32:14.611443  309.500000   8.23838124        b            l   \n",
      "2020-01-26 03:32:14.637680  309.500000   1.00000000        b            l   \n",
      "2020-01-26 03:32:14.639865  309.500000   1.00000000        b            l   \n",
      "\n",
      "                           miscellaneous  \n",
      "time                                      \n",
      "2020-01-25 15:24:38.505274                \n",
      "2020-01-25 15:24:38.520772                \n",
      "2020-01-25 15:24:38.522239                \n",
      "2020-01-25 15:24:38.523593                \n",
      "2020-01-25 15:28:35.997562                \n",
      "...                                  ...  \n",
      "2020-01-26 03:31:53.785286                \n",
      "2020-01-26 03:31:54.192355                \n",
      "2020-01-26 03:32:14.611443                \n",
      "2020-01-26 03:32:14.637680                \n",
      "2020-01-26 03:32:14.639865                \n",
      "\n",
      "[1000 rows x 5 columns]\n"
     ]
    }
   ],
   "source": [
    "# convert to DataFrame\n",
    "data = pd.DataFrame.from_records(\n",
    "    resp.json()[\"result\"][\"BCHUSD\"],\n",
    "    columns=[\"price\", \"volume\", \"time\", \"buy_sell\", \"market_limit\", \"miscellaneous\"]\n",
    ")\n",
    "data.index = data.pop(\"time\").map(datetime.datetime.fromtimestamp)\n",
    "print(data)"
   ]
  },
  {
   "cell_type": "code",
   "execution_count": 31,
   "id": "825dd682",
   "metadata": {},
   "outputs": [],
   "source": [
    "def get_trades(pair,since):\n",
    "    \"\"\"\n",
    "    \"\"\"\n",
    "    req = \"{root_url}/endpoint?pair={pair}USD&since={since}\"\\\n",
    "    .format(root_url=\"https://api.kraken.com/0/public\",\n",
    "            endpoint = \"Trades\",\n",
    "            pair = pair,\n",
    "            since = since)\n",
    "    resp = requests.get(req)\n",
    "    data = pd.DataFrame.from_records(\n",
    "    resp.json()[\"result\"][f\"{pair}USD\"],\n",
    "    cololums =[\"price\",\"volume\", \"time\",\"buy_sell\", \"market_limit\", \"miscellaneous\"])\n",
    "    data.index = data.pop(\"time\").map(datatime.datatime.fromtimestamp)\n",
    "    \n",
    "    return data\n",
    "                                                                    "
   ]
  },
  {
   "cell_type": "code",
   "execution_count": 30,
   "id": "242dae6d",
   "metadata": {
    "scrolled": true
   },
   "outputs": [
    {
     "ename": "KeyError",
     "evalue": "'result'",
     "output_type": "error",
     "traceback": [
      "\u001b[0;31m---------------------------------------------------------------------------\u001b[0m",
      "\u001b[0;31mKeyError\u001b[0m                                  Traceback (most recent call last)",
      "\u001b[0;32m/var/folders/np/0l7d379s40qfhtnbvzppy9c80000gn/T/ipykernel_26926/4136077276.py\u001b[0m in \u001b[0;36m<module>\u001b[0;34m\u001b[0m\n\u001b[0;32m----> 1\u001b[0;31m \u001b[0mget_trades\u001b[0m\u001b[0;34m(\u001b[0m\u001b[0;34m\"BCH\"\u001b[0m\u001b[0;34m,\u001b[0m\u001b[0;36m1579961700\u001b[0m\u001b[0;34m)\u001b[0m\u001b[0;34m\u001b[0m\u001b[0;34m\u001b[0m\u001b[0m\n\u001b[0m",
      "\u001b[0;32m/var/folders/np/0l7d379s40qfhtnbvzppy9c80000gn/T/ipykernel_26926/707773478.py\u001b[0m in \u001b[0;36mget_trades\u001b[0;34m(pair, since)\u001b[0m\n\u001b[1;32m      9\u001b[0m     \u001b[0mresp\u001b[0m \u001b[0;34m=\u001b[0m \u001b[0mrequests\u001b[0m\u001b[0;34m.\u001b[0m\u001b[0mget\u001b[0m\u001b[0;34m(\u001b[0m\u001b[0mreq\u001b[0m\u001b[0;34m)\u001b[0m\u001b[0;34m\u001b[0m\u001b[0;34m\u001b[0m\u001b[0m\n\u001b[1;32m     10\u001b[0m     data = pd.DataFrame.from_records(\n\u001b[0;32m---> 11\u001b[0;31m     \u001b[0mresp\u001b[0m\u001b[0;34m.\u001b[0m\u001b[0mjson\u001b[0m\u001b[0;34m(\u001b[0m\u001b[0;34m)\u001b[0m\u001b[0;34m[\u001b[0m\u001b[0;34m\"result\"\u001b[0m\u001b[0;34m]\u001b[0m\u001b[0;34m[\u001b[0m\u001b[0;34mf\"{pair}USD\"\u001b[0m\u001b[0;34m]\u001b[0m\u001b[0;34m,\u001b[0m\u001b[0;34m\u001b[0m\u001b[0;34m\u001b[0m\u001b[0m\n\u001b[0m\u001b[1;32m     12\u001b[0m     cololums =[\"price\",\"volume\", \"time\",\"buy_sell\", \"market_limit\", \"miscellaneous\"])\n\u001b[1;32m     13\u001b[0m     \u001b[0mdata\u001b[0m\u001b[0;34m.\u001b[0m\u001b[0mindex\u001b[0m \u001b[0;34m=\u001b[0m \u001b[0mdata\u001b[0m\u001b[0;34m.\u001b[0m\u001b[0mpop\u001b[0m\u001b[0;34m(\u001b[0m\u001b[0;34m\"time\"\u001b[0m\u001b[0;34m)\u001b[0m\u001b[0;34m.\u001b[0m\u001b[0mmap\u001b[0m\u001b[0;34m(\u001b[0m\u001b[0mdatatime\u001b[0m\u001b[0;34m.\u001b[0m\u001b[0mdatatime\u001b[0m\u001b[0;34m.\u001b[0m\u001b[0mfromtimestamp\u001b[0m\u001b[0;34m)\u001b[0m\u001b[0;34m\u001b[0m\u001b[0;34m\u001b[0m\u001b[0m\n",
      "\u001b[0;31mKeyError\u001b[0m: 'result'"
     ]
    }
   ],
   "source": [
    "get_trades(\"BCH\",1579961700)"
   ]
  },
  {
   "cell_type": "code",
   "execution_count": null,
   "id": "2917ca51",
   "metadata": {},
   "outputs": [],
   "source": []
  }
 ],
 "metadata": {
  "kernelspec": {
   "display_name": "Python 3 (ipykernel)",
   "language": "python",
   "name": "python3"
  },
  "language_info": {
   "codemirror_mode": {
    "name": "ipython",
    "version": 3
   },
   "file_extension": ".py",
   "mimetype": "text/x-python",
   "name": "python",
   "nbconvert_exporter": "python",
   "pygments_lexer": "ipython3",
   "version": "3.9.13"
  }
 },
 "nbformat": 4,
 "nbformat_minor": 5
}
